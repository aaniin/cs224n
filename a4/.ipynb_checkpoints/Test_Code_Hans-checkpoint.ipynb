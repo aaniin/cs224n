{
 "cells": [
  {
   "cell_type": "code",
   "execution_count": 1,
   "metadata": {},
   "outputs": [
    {
     "name": "stdout",
     "output_type": "stream",
     "text": [
      "[['foo', 'foo', 'foo', 'foo', 'foo', 'foo', 'foo'], ['foo', 'foo', 'foo', 'foo'], ['foo', 'foo', 'foo', 'foo', 'foo'], ['foo', 'foo', 'foo', 'foo', 'foo', 'foo', 'foo', 'foo', 'foo'], ['foo', 'foo', 'foo', 'foo', 'foo', 'foo', 'foo', 'foo', 'foo', 'foo'], ['foo', 'foo', 'foo', 'foo'], ['foo', 'foo', 'foo', 'foo', 'foo', 'foo', 'foo'], ['foo', 'foo'], ['foo', 'foo'], ['foo', 'foo', 'foo', 'foo', 'foo', 'foo']]\n",
      "[7, 4, 5, 9, 10, 4, 7, 2, 2, 6]\n",
      "[['foo', 'foo', 'foo', 'foo', 'foo', 'foo', 'foo', 'bar', 'bar', 'bar'], ['foo', 'foo', 'foo', 'foo', 'bar', 'bar', 'bar', 'bar', 'bar', 'bar'], ['foo', 'foo', 'foo', 'foo', 'foo', 'bar', 'bar', 'bar', 'bar', 'bar'], ['foo', 'foo', 'foo', 'foo', 'foo', 'foo', 'foo', 'foo', 'foo', 'bar'], ['foo', 'foo', 'foo', 'foo', 'foo', 'foo', 'foo', 'foo', 'foo', 'foo'], ['foo', 'foo', 'foo', 'foo', 'bar', 'bar', 'bar', 'bar', 'bar', 'bar'], ['foo', 'foo', 'foo', 'foo', 'foo', 'foo', 'foo', 'bar', 'bar', 'bar'], ['foo', 'foo', 'bar', 'bar', 'bar', 'bar', 'bar', 'bar', 'bar', 'bar'], ['foo', 'foo', 'bar', 'bar', 'bar', 'bar', 'bar', 'bar', 'bar', 'bar'], ['foo', 'foo', 'foo', 'foo', 'foo', 'foo', 'bar', 'bar', 'bar', 'bar']]\n",
      "[10, 10, 10, 10, 10, 10, 10, 10, 10, 10]\n"
     ]
    }
   ],
   "source": [
    "import utils\n",
    "import random\n",
    "\n",
    "words = ['abc', 'def', 'ghi', 'jkl']\n",
    "\n",
    "sents = []\n",
    "for i in range(10):\n",
    "    random_number = random.randint(1,12)\n",
    "    sent = ['foo'] * random_number\n",
    "    sents.append(sent)\n",
    "\n",
    "print(sents)\n",
    "lengths = [len(sent) for sent in sents]\n",
    "print(lengths)\n",
    "\n",
    "padded_sents = utils.pad_sents(sents, 'bar')\n",
    "\n",
    "print(padded_sents)\n",
    "lengths = [len(sent) for sent in padded_sents]\n",
    "print(lengths)"
   ]
  },
  {
   "cell_type": "code",
   "execution_count": null,
   "metadata": {},
   "outputs": [],
   "source": []
  }
 ],
 "metadata": {
  "kernelspec": {
   "display_name": "Python 3",
   "language": "python",
   "name": "python3"
  },
  "language_info": {
   "codemirror_mode": {
    "name": "ipython",
    "version": 3
   },
   "file_extension": ".py",
   "mimetype": "text/x-python",
   "name": "python",
   "nbconvert_exporter": "python",
   "pygments_lexer": "ipython3",
   "version": "3.6.6"
  }
 },
 "nbformat": 4,
 "nbformat_minor": 2
}
